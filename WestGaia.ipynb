{
 "cells": [
  {
   "cell_type": "code",
   "execution_count": 1,
   "metadata": {},
   "outputs": [
    {
     "name": "stderr",
     "output_type": "stream",
     "text": [
      "WARNING: W03: None:16:0: W03: Implicitly generating an ID from a name '-out.form' -> '_-out.form' [astropy.io.votable.xmlutil]\n",
      "WARNING: W27: None:120:2: W27: COOSYS deprecated in VOTable 1.2 [astropy.io.votable.tree]\n",
      "WARNING: W27: None:121:2: W27: COOSYS deprecated in VOTable 1.2 [astropy.io.votable.tree]\n",
      "WARNING: W50: None:179:4: W50: Invalid unit string 'e-/s' [astropy.io.votable.tree]\n",
      "WARNING: W50: None:182:4: W50: Invalid unit string 'e-/s' [astropy.io.votable.tree]\n",
      "WARNING: W50: None:191:4: W50: Invalid unit string 'e-/s' [astropy.io.votable.tree]\n",
      "WARNING: W50: None:195:4: W50: Invalid unit string 'e-/s' [astropy.io.votable.tree]\n",
      "WARNING: W50: None:207:4: W50: Invalid unit string 'e-/s' [astropy.io.votable.tree]\n",
      "WARNING: W50: None:211:4: W50: Invalid unit string 'e-/s' [astropy.io.votable.tree]\n",
      "WARNING: W06: None:223:4: W06: Invalid UCD 'phot.color;em.opt.B;em.opt.R': Unknown word 'phot.color' [astropy.io.votable.tree]\n",
      "WARNING: W03: None:243:4: W03: Implicitly generating an ID from a name 'E(BP-RP)' -> 'E_BP-RP_' [astropy.io.votable.xmlutil]\n",
      "WARNING: W35: None:29241:0: W35: 'value' attribute required for INFO elements [astropy.io.votable.tree]\n"
     ]
    }
   ],
   "source": [
    "import numpy as np\n",
    "from astropy.table import Table\n",
    "# had a file that \n",
    "#t = Table.read('West_M6_Gaia_votable.vot')\n",
    "#take table of West et al. 2011 >M5 dwarfs which was matched with Gaia DR2 in Vizier\n",
    "#West et al. ADS bibcode: 2011AJ....141...97W\n",
    "t = Table.read('West_Mgtr5_Gaia_votable.vot')\n"
   ]
  },
  {
   "cell_type": "code",
   "execution_count": 2,
   "metadata": {},
   "outputs": [],
   "source": [
    "#parameters for target 2MASS J10274572+0629104\n",
    "plx_target=np.array([10.113119891916195])\n",
    "gmag_target=np.array([17.782438])\n",
    "bprp_target=np.array([3.837696])\n",
    "absmag_target=gmag_target - 5.0*np.log10(100.0/plx_target)\n"
   ]
  },
  {
   "cell_type": "code",
   "execution_count": 3,
   "metadata": {},
   "outputs": [
    {
     "data": {
      "text/html": [
       "<i>Table masked=True length=13119</i>\n",
       "<table id=\"table4785857816\" class=\"table-striped table-bordered table-condensed\">\n",
       "<thead><tr><th>_r</th><th>_RAJ2000</th><th>_DEJ2000</th><th>RA_ICRS</th><th>e_RA_ICRS</th><th>DE_ICRS</th><th>e_DE_ICRS</th><th>Source</th><th>Plx</th><th>e_Plx</th><th>pmRA</th><th>e_pmRA</th><th>pmDE</th><th>e_pmDE</th><th>Dup</th><th>FG</th><th>e_FG</th><th>Gmag</th><th>e_Gmag</th><th>FBP</th><th>e_FBP</th><th>BPmag</th><th>e_BPmag</th><th>FRP</th><th>e_FRP</th><th>RPmag</th><th>e_RPmag</th><th>BP-RP</th><th>RV</th><th>e_RV</th><th>Teff</th><th>AG</th><th>E_BP-RP_</th><th>Rad</th><th>Lum</th></tr></thead>\n",
       "<thead><tr><th>arcs</th><th>deg</th><th>deg</th><th>deg</th><th>mas</th><th>deg</th><th>mas</th><th></th><th>mas</th><th>mas</th><th>mas / yr</th><th>mas / yr</th><th>mas / yr</th><th>mas / yr</th><th></th><th>e-/s</th><th>e-/s</th><th>mag</th><th>mag</th><th>e-/s</th><th>e-/s</th><th>mag</th><th>mag</th><th>e-/s</th><th>e-/s</th><th>mag</th><th>mag</th><th>mag</th><th>km / s</th><th>km / s</th><th>K</th><th>mag</th><th>mag</th><th>Rsun</th><th>Lsun</th></tr></thead>\n",
       "<thead><tr><th>float64</th><th>float64</th><th>float64</th><th>float64</th><th>float64</th><th>float64</th><th>float64</th><th>int64</th><th>float64</th><th>float32</th><th>float64</th><th>float32</th><th>float64</th><th>float32</th><th>uint8</th><th>float32</th><th>float32</th><th>float64</th><th>float64</th><th>float32</th><th>float32</th><th>float64</th><th>float64</th><th>float32</th><th>float32</th><th>float64</th><th>float64</th><th>float64</th><th>float64</th><th>float32</th><th>float64</th><th>float32</th><th>float32</th><th>float32</th><th>float64</th></tr></thead>\n",
       "<tr><td>0.425</td><td>166.7192217804807</td><td>26.9132192165295</td><td>166.71927025993</td><td>1.3968</td><td>26.91312453814</td><td>1.2908</td><td>3998365654926324736</td><td>15.5378</td><td>1.4522</td><td>10.040</td><td>2.640</td><td>-21.990</td><td>2.310</td><td>0</td><td>254.1</td><td>4.37</td><td>19.6758</td><td>0.0187</td><td>61.25</td><td>15.39</td><td>20.8837</td><td>0.2728</td><td>560.8</td><td>14.11</td><td>17.8900</td><td>0.0273</td><td>2.9937</td><td>--</td><td>--</td><td>--</td><td>--</td><td>--</td><td>--</td><td>--</td></tr>\n",
       "<tr><td>0.557</td><td>170.9212458284935</td><td>27.2576630932197</td><td>170.92148388654</td><td>0.3734</td><td>27.25765851968</td><td>0.6917</td><td>3997706669504776832</td><td>7.1252</td><td>0.9168</td><td>49.151</td><td>0.623</td><td>-1.062</td><td>0.556</td><td>0</td><td>383.8</td><td>1.521</td><td>19.2282</td><td>0.0043</td><td>53.35</td><td>15.63</td><td>21.0336</td><td>0.3180</td><td>608</td><td>10.52</td><td>17.8022</td><td>0.0188</td><td>3.2314</td><td>--</td><td>--</td><td>--</td><td>--</td><td>--</td><td>--</td><td>--</td></tr>\n",
       "<tr><td>0.700</td><td>172.1399699860675</td><td>27.4404866699044</td><td>172.13967380813</td><td>0.7002</td><td>27.44037355221</td><td>0.8602</td><td>4018729396252409600</td><td>6.2680</td><td>1.0697</td><td>-61.050</td><td>1.430</td><td>-26.273</td><td>1.591</td><td>0</td><td>161.3</td><td>1.402</td><td>20.1692</td><td>0.0094</td><td>17.13</td><td>5.178</td><td>22.2670</td><td>0.3282</td><td>280</td><td>9.011</td><td>18.6438</td><td>0.0349</td><td>3.6232</td><td>--</td><td>--</td><td>--</td><td>--</td><td>--</td><td>--</td><td>--</td></tr>\n",
       "<tr><td>1.014</td><td>173.0110823416390</td><td>27.4266234799646</td><td>173.01148752661</td><td>0.2253</td><td>27.42639549268</td><td>0.3003</td><td>4018762351536120832</td><td>6.9874</td><td>0.3709</td><td>83.530</td><td>0.432</td><td>-52.952</td><td>0.408</td><td>0</td><td>602.7</td><td>1.681</td><td>18.7381</td><td>0.0030</td><td>66.62</td><td>10.86</td><td>20.7923</td><td>0.1769</td><td>931.3</td><td>9.461</td><td>17.3392</td><td>0.0110</td><td>3.4531</td><td>--</td><td>--</td><td>--</td><td>--</td><td>--</td><td>--</td><td>--</td></tr>\n",
       "<tr><td>2.125</td><td>215.9274902942996</td><td>21.4445426581156</td><td>215.92768961906</td><td>0.5622</td><td>21.44370970856</td><td>0.5672</td><td>1240695453427854848</td><td>14.1788</td><td>0.7903</td><td>43.090</td><td>1.642</td><td>-193.459</td><td>1.194</td><td>0</td><td>145</td><td>1.009</td><td>20.2849</td><td>0.0076</td><td>48.52</td><td>18.27</td><td>21.1366</td><td>0.4088</td><td>275.2</td><td>6.215</td><td>18.6627</td><td>0.0245</td><td>2.4739</td><td>--</td><td>--</td><td>--</td><td>--</td><td>--</td><td>--</td><td>--</td></tr>\n",
       "<tr><td>0.463</td><td>357.0724952971113</td><td>0.5178603067429</td><td>357.07267624336</td><td>0.5042</td><td>0.51788599318</td><td>0.3412</td><td>2643129887640180352</td><td>3.1954</td><td>0.5773</td><td>42.025</td><td>1.079</td><td>5.966</td><td>0.609</td><td>0</td><td>292.9</td><td>1.067</td><td>19.5215</td><td>0.0040</td><td>45.7</td><td>5.264</td><td>21.2017</td><td>0.1251</td><td>441.9</td><td>6.861</td><td>18.1487</td><td>0.0169</td><td>3.0529</td><td>--</td><td>--</td><td>--</td><td>--</td><td>--</td><td>--</td><td>--</td></tr>\n",
       "<tr><td>0.152</td><td>182.6574693778911</td><td>28.0829599746591</td><td>182.65745972853</td><td>0.2213</td><td>28.08301268642</td><td>0.1744</td><td>4012794919680029312</td><td>5.5927</td><td>0.2719</td><td>-1.977</td><td>0.445</td><td>12.243</td><td>0.365</td><td>0</td><td>669</td><td>1.374</td><td>18.6248</td><td>0.0022</td><td>86.94</td><td>8.353</td><td>20.5034</td><td>0.1043</td><td>1017</td><td>9.494</td><td>17.2439</td><td>0.0101</td><td>3.2594</td><td>--</td><td>--</td><td>--</td><td>--</td><td>--</td><td>--</td><td>--</td></tr>\n",
       "<tr><td>1.016</td><td>5.5775244871493</td><td>0.4835762998177</td><td>5.57788104426</td><td>0.2481</td><td>0.48362470165</td><td>0.1819</td><td>2546818196670323968</td><td>4.5630</td><td>0.3020</td><td>82.810</td><td>0.711</td><td>11.242</td><td>0.415</td><td>0</td><td>817.1</td><td>1.726</td><td>18.4077</td><td>0.0023</td><td>120.2</td><td>9.328</td><td>20.1519</td><td>0.0843</td><td>1273</td><td>8.421</td><td>17.0002</td><td>0.0072</td><td>3.1518</td><td>--</td><td>--</td><td>--</td><td>--</td><td>--</td><td>--</td><td>--</td></tr>\n",
       "<tr><td>1.174</td><td>184.4494141663488</td><td>28.1203828738050</td><td>184.44972930105</td><td>0.0976</td><td>28.11996986909</td><td>0.0997</td><td>4009819061395287936</td><td>22.8069</td><td>0.1520</td><td>64.553</td><td>0.180</td><td>-95.924</td><td>0.238</td><td>0</td><td>3171</td><td>3.007</td><td>16.9354</td><td>0.0010</td><td>232.6</td><td>6.121</td><td>19.4346</td><td>0.0286</td><td>5047</td><td>18.73</td><td>15.5044</td><td>0.0040</td><td>3.9302</td><td>--</td><td>--</td><td>3292.50</td><td>0.2800</td><td>0.1843</td><td>--</td><td>--</td></tr>\n",
       "<tr><td>...</td><td>...</td><td>...</td><td>...</td><td>...</td><td>...</td><td>...</td><td>...</td><td>...</td><td>...</td><td>...</td><td>...</td><td>...</td><td>...</td><td>...</td><td>...</td><td>...</td><td>...</td><td>...</td><td>...</td><td>...</td><td>...</td><td>...</td><td>...</td><td>...</td><td>...</td><td>...</td><td>...</td><td>...</td><td>...</td><td>...</td><td>...</td><td>...</td><td>...</td><td>...</td></tr>\n",
       "<tr><td>0.678</td><td>233.9323278574951</td><td>17.5986405909266</td><td>233.93238222825</td><td>0.5011</td><td>17.59835592071</td><td>0.4248</td><td>1209265879188130944</td><td>3.7361</td><td>0.6060</td><td>12.037</td><td>1.074</td><td>-66.117</td><td>1.221</td><td>0</td><td>184.5</td><td>1.29</td><td>20.0232</td><td>0.0076</td><td>47.75</td><td>11.42</td><td>21.1539</td><td>0.2598</td><td>323.8</td><td>9.498</td><td>18.4864</td><td>0.0319</td><td>2.6675</td><td>--</td><td>--</td><td>--</td><td>--</td><td>--</td><td>--</td><td>--</td></tr>\n",
       "<tr><td>0.086</td><td>233.8473006215954</td><td>17.2331595257713</td><td>233.84726823959</td><td>0.2233</td><td>17.23310904946</td><td>0.2310</td><td>1197240967192729088</td><td>6.7811</td><td>0.3207</td><td>-7.183</td><td>0.424</td><td>-11.724</td><td>0.506</td><td>0</td><td>639.1</td><td>1.516</td><td>18.6745</td><td>0.0026</td><td>63.81</td><td>6.902</td><td>20.8392</td><td>0.1174</td><td>999.1</td><td>12.92</td><td>17.2629</td><td>0.0140</td><td>3.5763</td><td>--</td><td>--</td><td>--</td><td>--</td><td>--</td><td>--</td><td>--</td></tr>\n",
       "<tr><td>0.295</td><td>234.6906291299424</td><td>17.3856430334455</td><td>234.69051233619</td><td>0.5411</td><td>17.38572490137</td><td>0.6659</td><td>1197279789402043008</td><td>3.2246</td><td>0.7808</td><td>-25.887</td><td>1.181</td><td>19.014</td><td>1.763</td><td>0</td><td>147.9</td><td>1.208</td><td>20.2636</td><td>0.0089</td><td>32.28</td><td>5.138</td><td>21.5792</td><td>0.1728</td><td>238.2</td><td>7.818</td><td>18.8196</td><td>0.0356</td><td>2.7596</td><td>--</td><td>--</td><td>--</td><td>--</td><td>--</td><td>--</td><td>--</td></tr>\n",
       "<tr><td>1.173</td><td>235.2734676920646</td><td>16.7626684753608</td><td>235.27301100744</td><td>0.2780</td><td>16.76244457569</td><td>0.2045</td><td>1197045215467559680</td><td>7.3456</td><td>0.3016</td><td>-101.562</td><td>0.511</td><td>-52.003</td><td>0.477</td><td>0</td><td>508.2</td><td>1.696</td><td>18.9233</td><td>0.0036</td><td>71.64</td><td>15.48</td><td>20.7135</td><td>0.2347</td><td>838.2</td><td>13.23</td><td>17.4535</td><td>0.0171</td><td>3.2600</td><td>--</td><td>--</td><td>--</td><td>--</td><td>--</td><td>--</td><td>--</td></tr>\n",
       "<tr><td>0.437</td><td>172.6368142581890</td><td>-8.1216788176099</td><td>172.63666732463</td><td>0.5639</td><td>-8.12177439122</td><td>0.3279</td><td>3591268515510797824</td><td>14.6212</td><td>0.5612</td><td>-33.784</td><td>1.322</td><td>-22.198</td><td>0.712</td><td>0</td><td>247.4</td><td>1.685</td><td>19.7047</td><td>0.0074</td><td>48.93</td><td>17.88</td><td>21.1275</td><td>0.3967</td><td>480.3</td><td>8.637</td><td>18.0581</td><td>0.0195</td><td>3.0694</td><td>--</td><td>--</td><td>--</td><td>--</td><td>--</td><td>--</td><td>--</td></tr>\n",
       "<tr><td>0.095</td><td>233.3726728249844</td><td>16.3882838942186</td><td>233.37261562108</td><td>0.2747</td><td>16.38829758047</td><td>0.2247</td><td>1195648217225465472</td><td>5.6133</td><td>0.3237</td><td>-12.746</td><td>0.518</td><td>3.179</td><td>0.500</td><td>0</td><td>375.2</td><td>1.189</td><td>19.2528</td><td>0.0034</td><td>42.23</td><td>5.768</td><td>21.2874</td><td>0.1483</td><td>587.1</td><td>6.229</td><td>17.8401</td><td>0.0115</td><td>3.4473</td><td>--</td><td>--</td><td>--</td><td>--</td><td>--</td><td>--</td><td>--</td></tr>\n",
       "<tr><td>0.230</td><td>234.0443784200024</td><td>16.1483474988597</td><td>234.04443750655</td><td>0.9232</td><td>16.14830181187</td><td>1.1170</td><td>1195420244656642304</td><td>4.6041</td><td>1.7747</td><td>13.182</td><td>1.380</td><td>-10.611</td><td>1.983</td><td>0</td><td>164.5</td><td>1.35</td><td>20.1479</td><td>0.0089</td><td>51.34</td><td>9.702</td><td>21.0752</td><td>0.2052</td><td>275.3</td><td>5.83</td><td>18.6623</td><td>0.0230</td><td>2.4129</td><td>--</td><td>--</td><td>--</td><td>--</td><td>--</td><td>--</td><td>--</td></tr>\n",
       "<tr><td>0.860</td><td>234.1840387345428</td><td>16.1342744649357</td><td>234.18366016252</td><td>0.2913</td><td>16.13443158499</td><td>0.2553</td><td>1195416499444324992</td><td>13.5697</td><td>0.3794</td><td>-84.463</td><td>0.519</td><td>36.492</td><td>0.617</td><td>0</td><td>628.8</td><td>2.273</td><td>18.6921</td><td>0.0039</td><td>65.42</td><td>11.83</td><td>20.8121</td><td>0.1964</td><td>1124</td><td>10.75</td><td>17.1346</td><td>0.0104</td><td>3.6775</td><td>--</td><td>--</td><td>--</td><td>--</td><td>--</td><td>--</td><td>--</td></tr>\n",
       "<tr><td>0.455</td><td>234.7755277101616</td><td>16.3849109102784</td><td>234.77562353276</td><td>0.1336</td><td>16.38474501168</td><td>0.1076</td><td>1196914858915950336</td><td>13.5405</td><td>0.1759</td><td>21.352</td><td>0.229</td><td>-38.531</td><td>0.250</td><td>0</td><td>1798</td><td>5.085</td><td>17.5512</td><td>0.0031</td><td>190.7</td><td>17.47</td><td>19.6507</td><td>0.0995</td><td>2814</td><td>23.58</td><td>16.1385</td><td>0.0091</td><td>3.5121</td><td>--</td><td>--</td><td>--</td><td>--</td><td>--</td><td>--</td><td>--</td></tr>\n",
       "<tr><td>0.237</td><td>234.7652036567377</td><td>16.0852491282846</td><td>234.76530139922</td><td>0.5470</td><td>16.08516652884</td><td>0.3779</td><td>1196853488127742208</td><td>5.1708</td><td>0.6606</td><td>21.813</td><td>0.896</td><td>-19.184</td><td>0.842</td><td>0</td><td>219.9</td><td>1.224</td><td>19.8328</td><td>0.0060</td><td>29.99</td><td>5.104</td><td>21.6590</td><td>0.1848</td><td>350.8</td><td>7.194</td><td>18.3993</td><td>0.0223</td><td>3.2598</td><td>--</td><td>--</td><td>--</td><td>--</td><td>--</td><td>--</td><td>--</td></tr>\n",
       "</table>"
      ],
      "text/plain": [
       "<Table masked=True length=13119>\n",
       "   _r        _RAJ2000          _DEJ2000     ... E_BP-RP_   Rad     Lum  \n",
       "  arcs         deg               deg        ...   mag      Rsun    Lsun \n",
       "float64      float64           float64      ... float32  float32 float64\n",
       "------- ----------------- ----------------- ... -------- ------- -------\n",
       "  0.425 166.7192217804807  26.9132192165295 ...       --      --      --\n",
       "  0.557 170.9212458284935  27.2576630932197 ...       --      --      --\n",
       "  0.700 172.1399699860675  27.4404866699044 ...       --      --      --\n",
       "  1.014 173.0110823416390  27.4266234799646 ...       --      --      --\n",
       "  2.125 215.9274902942996  21.4445426581156 ...       --      --      --\n",
       "  0.463 357.0724952971113   0.5178603067429 ...       --      --      --\n",
       "  0.152 182.6574693778911  28.0829599746591 ...       --      --      --\n",
       "  1.016   5.5775244871493   0.4835762998177 ...       --      --      --\n",
       "  1.174 184.4494141663488  28.1203828738050 ...   0.1843      --      --\n",
       "    ...               ...               ... ...      ...     ...     ...\n",
       "  0.678 233.9323278574951  17.5986405909266 ...       --      --      --\n",
       "  0.086 233.8473006215954  17.2331595257713 ...       --      --      --\n",
       "  0.295 234.6906291299424  17.3856430334455 ...       --      --      --\n",
       "  1.173 235.2734676920646  16.7626684753608 ...       --      --      --\n",
       "  0.437 172.6368142581890  -8.1216788176099 ...       --      --      --\n",
       "  0.095 233.3726728249844  16.3882838942186 ...       --      --      --\n",
       "  0.230 234.0443784200024  16.1483474988597 ...       --      --      --\n",
       "  0.860 234.1840387345428  16.1342744649357 ...       --      --      --\n",
       "  0.455 234.7755277101616  16.3849109102784 ...       --      --      --\n",
       "  0.237 234.7652036567377  16.0852491282846 ...       --      --      --"
      ]
     },
     "execution_count": 3,
     "metadata": {},
     "output_type": "execute_result"
    }
   ],
   "source": [
    "t\n",
    "#check that the table is there and take a look!\n",
    "\n"
   ]
  },
  {
   "cell_type": "code",
   "execution_count": 4,
   "metadata": {},
   "outputs": [],
   "source": [
    "#calculate HR diagram stuff. These are all high S/N and biases not particularly important so\n",
    "# we can use simple method.\n",
    "MG=t['Gmag']-5.0*np.log10(100.0/t['Plx'])\n",
    "bprp=t['BP-RP']\n"
   ]
  },
  {
   "cell_type": "code",
   "execution_count": 5,
   "metadata": {},
   "outputs": [
    {
     "data": {
      "text/plain": [
       "<matplotlib.figure.Figure at 0x15208f76d8>"
      ]
     },
     "metadata": {},
     "output_type": "display_data"
    }
   ],
   "source": [
    "import matplotlib.pyplot as plt\n",
    "#\n",
    "plt.plot(bprp,MG,'k.',bprp_target,absmag_target,'ro')\n",
    "plt.gca().invert_yaxis()\n",
    "plt.show()\n",
    "# simple plot to see data, but don't use this. Note you can see the colors becoming bad for faint\n",
    "# sources."
   ]
  },
  {
   "cell_type": "code",
   "execution_count": 6,
   "metadata": {},
   "outputs": [],
   "source": [
    "H, xbins, ybins = np.histogram2d(bprp, MG,\n",
    "                                 bins=(np.linspace(3.0, 5.0, 30),\n",
    "                                       np.linspace(11, 15, 25)))\n",
    "cmap = plt.cm.binary\n",
    "cmap.set_bad('w', 1.)\n",
    "#see http://www.astroml.org/book_figures/chapter1/fig_S82_hess.html\n"
   ]
  },
  {
   "cell_type": "code",
   "execution_count": 7,
   "metadata": {},
   "outputs": [
    {
     "data": {
      "image/png": "[encoded data removed]",
      "text/plain": [
       "<matplotlib.figure.Figure at 0x1521435278>"
      ]
     },
     "metadata": {
      "needs_background": "light"
     },
     "output_type": "display_data"
    }
   ],
   "source": [
    "plt.figure()\n",
    "H[H == 0] = 1  # prevent warnings in log10\n",
    "plt.imshow(np.log10(H).T, origin='lower',\n",
    "          extent=[xbins[0], xbins[-1], ybins[0], ybins[-1]],\n",
    "          cmap=cmap, interpolation='nearest',\n",
    "          aspect='auto')\n",
    "plt.plot(bprp_target,absmag_target,'ro')\n",
    "plt.gca().invert_yaxis()\n",
    "plt.xlabel('$B_p-R_p$')\n",
    "plt.ylabel('$M_G$')\n",
    "plt.text(4.20,12.0,'West et al. (2011) M6-M9')\n",
    "plt.savefig('hr_2M1027.pdf')\n"
   ]
  },
  {
   "cell_type": "code",
   "execution_count": null,
   "metadata": {},
   "outputs": [],
   "source": []
  },
  {
   "cell_type": "code",
   "execution_count": null,
   "metadata": {},
   "outputs": [],
   "source": []
  }
 ],
 "metadata": {
  "kernelspec": {
   "display_name": "Python 3",
   "language": "python",
   "name": "python3"
  },
  "language_info": {
   "codemirror_mode": {
    "name": "ipython",
    "version": 3
   },
   "file_extension": ".py",
   "mimetype": "text/x-python",
   "name": "python",
   "nbconvert_exporter": "python",
   "pygments_lexer": "ipython3",
   "version": "3.6.7"
  }
 },
 "nbformat": 4,
 "nbformat_minor": 2
}
